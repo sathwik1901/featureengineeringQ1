{
  "nbformat": 4,
  "nbformat_minor": 0,
  "metadata": {
    "colab": {
      "provenance": []
    },
    "kernelspec": {
      "name": "python3",
      "display_name": "Python 3"
    },
    "language_info": {
      "name": "python"
    }
  },
  "cells": [
    {
      "cell_type": "code",
      "execution_count": null,
      "metadata": {
        "colab": {
          "base_uri": "https://localhost:8080/"
        },
        "id": "MOAsl0Y-Jlua",
        "outputId": "bd69f4ed-f44d-45a7-911c-20c84497106c"
      },
      "outputs": [
        {
          "output_type": "stream",
          "name": "stdout",
          "text": [
            "vector: [3.5 8.1 2.7 6.3 7.4 5.9 4.2 9.8]\n",
            "mean of the vector: 5.987500000000001\n",
            "variance of the vector: 5.16109375\n"
          ]
        }
      ],
      "source": [
        "import numpy as np\n",
        "vector=np.array([3.5, 8.1, 2.7, 6.3, 7.4, 5.9, 4.2, 9.8])\n",
        "m=np.mean(vector)\n",
        "var=np.var(vector)\n",
        "print(\"vector:\",vector)\n",
        "print(\"mean of the vector:\",m)\n",
        "print(\"variance of the vector:\",var)"
      ]
    }
  ]
}